{
 "cells": [
  {
   "cell_type": "markdown",
   "metadata": {},
   "source": [
    "# Using Python for Research Homework: Week 1\n",
    "\n",
    "In this homework, we will use objects, functions, and randomness to find the length of documents, approximate $\\pi$, and smooth out random noise."
   ]
  },
  {
   "cell_type": "markdown",
   "metadata": {},
   "source": [
    "### Exercise 1\n",
    "\n",
    "In this five-part exercise, we will count the frequency of each letter in a given string.\n",
    "\n",
    "#### Exercise 1a\n",
    "\n",
    "- Import the `string` library.\n",
    "- Create a variable `alphabet` that consists of the lowercase and uppercase letters in the English alphabet using the `ascii_letters` data attribute of the `string` library."
   ]
  },
  {
   "cell_type": "code",
   "execution_count": 2,
   "metadata": {},
   "outputs": [
    {
     "name": "stdout",
     "output_type": "stream",
     "text": [
      "abcdefghijklmnopqrstuvwxyzABCDEFGHIJKLMNOPQRSTUVWXYZ\n"
     ]
    }
   ],
   "source": [
    "# write your code here!\n",
    "import string\n",
    "alphabet=string.ascii_letters\n",
    "print(alphabet)"
   ]
  },
  {
   "cell_type": "markdown",
   "metadata": {},
   "source": [
    "#### Exercise 1b\n",
    "- The lower and upper case letters of the English alphabet should stored as the string variable `alphabet`.\n",
    "- Consider the sentence 'Jim quickly realized that the beautiful gowns are expensive'. Create a dictionary `count_letters` with keys consisting of each unique letter in the sentence and values consisting of the number of times each letter is used in this sentence. Count upper case and lower case letters separately in the dictionary."
   ]
  },
  {
   "cell_type": "code",
   "execution_count": 3,
   "metadata": {},
   "outputs": [
    {
     "name": "stdout",
     "output_type": "stream",
     "text": [
      "{'a': 4, 'b': 1, 'c': 1, 'd': 1, 'e': 8, 'f': 1, 'g': 1, 'h': 2, 'i': 5, 'k': 1, 'l': 3, 'm': 1, 'n': 2, 'o': 1, 'p': 1, 'q': 1, 'r': 2, 's': 2, 't': 4, 'u': 3, 'v': 1, 'w': 1, 'x': 1, 'y': 1, 'z': 1, 'J': 1}\n"
     ]
    }
   ],
   "source": [
    "sentence = 'Jim quickly realized that the beautiful gowns are expensive'\n",
    "\n",
    "\n",
    "# write your code here!\n",
    "letters = {}\n",
    "for var in alphabet:\n",
    "    letters.update({var:0})\n",
    "\n",
    "for var2 in sentence:\n",
    "    if var2!=' ':\n",
    "        letters[var2] += 1\n",
    "\n",
    "count_letters = {}\n",
    "for var3 in letters.keys():\n",
    "    if letters[var3] != 0:\n",
    "        count_letters.update({var3:letters[var3]})\n",
    "print(count_letters)        \n"
   ]
  },
  {
   "cell_type": "markdown",
   "metadata": {},
   "source": [
    "#### Exercise 1c\n",
    "- Rewrite your code from 1b to make a function called `counter` that takes a string `input_string` and returns a dictionary of letter counts `count_letters`.\n",
    "- Use your function to call `counter(sentence)`."
   ]
  },
  {
   "cell_type": "code",
   "execution_count": 4,
   "metadata": {},
   "outputs": [
    {
     "data": {
      "text/plain": [
       "{'a': 4,\n",
       " 'b': 1,\n",
       " 'c': 1,\n",
       " 'd': 1,\n",
       " 'e': 8,\n",
       " 'f': 1,\n",
       " 'g': 1,\n",
       " 'h': 2,\n",
       " 'i': 5,\n",
       " 'k': 1,\n",
       " 'l': 3,\n",
       " 'm': 1,\n",
       " 'n': 2,\n",
       " 'o': 1,\n",
       " 'p': 1,\n",
       " 'q': 1,\n",
       " 'r': 2,\n",
       " 's': 2,\n",
       " 't': 4,\n",
       " 'u': 3,\n",
       " 'v': 1,\n",
       " 'w': 1,\n",
       " 'x': 1,\n",
       " 'y': 1,\n",
       " 'z': 1,\n",
       " 'J': 1}"
      ]
     },
     "execution_count": 4,
     "metadata": {},
     "output_type": "execute_result"
    }
   ],
   "source": [
    "# write your code here!\n",
    "def counter(input_string):\n",
    "    for var in alphabet:\n",
    "        letters.update({var:0})\n",
    "\n",
    "    for var2 in input_string:\n",
    "        if (var2 != ' ' )&(var2 != ',')&(var2 != '\\n')&(var2 != '.')&(var2 != '-'):\n",
    "            letters[var2] += 1\n",
    "\n",
    "    count_letters = {}\n",
    "    for var3 in letters.keys():\n",
    "        if letters[var3] != 0:\n",
    "            count_letters.update({var3:letters[var3]})\n",
    "    return(count_letters)     \n",
    "counter(sentence)"
   ]
  },
  {
   "cell_type": "markdown",
   "metadata": {},
   "source": [
    "#### Exercise 1d\n",
    "- Abraham Lincoln was a president during the American Civil War. His famous 1863 Gettysburg Address has been stored as `address`. Use the `counter` function from 1c to return a dictionary consisting of the count of each letter in this address and save it as `address_count`."
   ]
  },
  {
   "cell_type": "code",
   "execution_count": 5,
   "metadata": {},
   "outputs": [
    {
     "name": "stdout",
     "output_type": "stream",
     "text": [
      "{'a': 102, 'b': 13, 'c': 31, 'd': 58, 'e': 165, 'f': 26, 'g': 27, 'h': 80, 'i': 65, 'k': 3, 'l': 41, 'm': 13, 'n': 76, 'o': 93, 'p': 15, 'q': 1, 'r': 79, 's': 44, 't': 124, 'u': 21, 'v': 24, 'w': 26, 'y': 10, 'B': 1, 'F': 1, 'G': 1, 'I': 3, 'L': 1, 'N': 1, 'T': 2, 'W': 2}\n"
     ]
    }
   ],
   "source": [
    "address = \"\"\"Four score and seven years ago our fathers brought forth on this continent, a new nation, \n",
    "conceived in Liberty, and dedicated to the proposition that all men are created equal. Now we are engaged in a \n",
    "great civil war, testing whether that nation, or any nation so conceived and so dedicated, can long endure. \n",
    "We are met on a great battle-field of that war. We have come to dedicate a portion of that field, as a final \n",
    "resting place for those who here gave their lives that that nation might live. It is altogether fitting and proper \n",
    "that we should do this. But, in a larger sense, we can not dedicate -- we can not consecrate -- we can not hallow -- \n",
    "this ground. The brave men, living and dead, who struggled here, have consecrated it, far above our poor power to add \n",
    "or detract. The world will little note, nor long remember what we say here, but it can never forget what they did here. \n",
    "It is for us the living, rather, to be dedicated here to the unfinished work which they who fought here have thus far so \n",
    "nobly advanced. It is rather for us to be here dedicated to the great task remaining before us -- that from these honored \n",
    "dead we take increased devotion to that cause for which they gave the last full measure of devotion -- that we here \n",
    "highly resolve that these dead shall not have died in vain -- that this nation, under God, shall have a new birth of \n",
    "freedom -- and that government of the people, by the people, for the people, shall not perish from the earth.\"\"\"   \n",
    "\n",
    "# Write your code here!\n",
    "address_count=counter(address)\n",
    "print(address_count)"
   ]
  },
  {
   "cell_type": "markdown",
   "metadata": {},
   "source": [
    "#### Exercise 1f\n",
    "- The frequency of each letter in the Gettysburg Address is already stored as `address_count`. Use this dictionary to find the most common letter in the Gettysburg address."
   ]
  },
  {
   "cell_type": "code",
   "execution_count": 6,
   "metadata": {},
   "outputs": [
    {
     "name": "stdout",
     "output_type": "stream",
     "text": [
      "e\n"
     ]
    }
   ],
   "source": [
    "# write your code here!\n",
    "address_count = counter(address)\n",
    "maxx =max(address_count.values())\n",
    "def get_key(val): \n",
    "    for key, value in address_count.items(): \n",
    "         if val == value: \n",
    "             return key \n",
    "get_key(maxx)\n",
    "print(get_key(maxx))"
   ]
  },
  {
   "cell_type": "markdown",
   "metadata": {},
   "source": [
    "### Exercise 2\n",
    "\n",
    "Consider a circle inscribed in a square. The ratio of their areas (the ratio of the area of the circle to the area of the square) is $\\frac{\\pi}{4}$. In this six-part exercise, we will find a way to approximate this value.\n",
    "\n",
    "#### Exercise 2a\n",
    "- Using the `math` library, calculate and print the value of $\\frac{\\pi}{4}$"
   ]
  },
  {
   "cell_type": "code",
   "execution_count": 7,
   "metadata": {},
   "outputs": [
    {
     "name": "stdout",
     "output_type": "stream",
     "text": [
      "0.7853981633974483\n"
     ]
    }
   ],
   "source": [
    "# write your code here\n",
    "import math\n",
    "print(math.pi/4)\n",
    "pi_by_4 = math.pi/4"
   ]
  },
  {
   "cell_type": "markdown",
   "metadata": {},
   "source": [
    "#### Exercise 2b\n",
    "- Using `random.uniform()`, create a function `rand()` that generates a single float between $-1$ and $1$.\n",
    "- Call `rand()` once. For us to be able to check your solution, we will use `random.seed()` to fix the seed value of the random number generator."
   ]
  },
  {
   "cell_type": "code",
   "execution_count": 8,
   "metadata": {},
   "outputs": [
    {
     "data": {
      "text/plain": [
       "-0.7312715117751976"
      ]
     },
     "execution_count": 8,
     "metadata": {},
     "output_type": "execute_result"
    }
   ],
   "source": [
    "import random\n",
    "\n",
    "random.seed(1) # Fixes the see of the random number generator.\n",
    "\n",
    "def rand():\n",
    "   # define `rand` here!\n",
    "    return random.uniform(-1,1)\n",
    "\n",
    "rand()"
   ]
  },
  {
   "cell_type": "markdown",
   "metadata": {},
   "source": [
    "#### Exercise 2c\n",
    "- The distance between two points x and y is the square root of the sum of squared differences along each dimension of x and y. Write a function` distance(x, y)` that takes two vectors as its input and outputs the distance between them. Use your function to find the distance between $x=(0,0)$ and $y=(1,1)$."
   ]
  },
  {
   "cell_type": "code",
   "execution_count": 9,
   "metadata": {},
   "outputs": [
    {
     "data": {
      "text/plain": [
       "1.4142135623730951"
      ]
     },
     "execution_count": 9,
     "metadata": {},
     "output_type": "execute_result"
    }
   ],
   "source": [
    "def distance(x, y):\n",
    "   # define your function here!\n",
    "    x_dif = x[0]-y[0]\n",
    "    y_dif = x[1]-y[1]\n",
    "    sum_of_squares = x_dif**2 + y_dif**2\n",
    "    dist = math.sqrt(sum_of_squares)\n",
    "    return dist\n",
    "x = (0,0)\n",
    "y = (1,1)\n",
    "distance(x,y)"
   ]
  },
  {
   "cell_type": "markdown",
   "metadata": {},
   "source": [
    "#### Exercise 2d\n",
    "\n",
    "- Write a function `in_circle(x, origin)` that determines whether a point in a two dimensional plane falls within a unit circle surrounding a given origin.\n",
    "    - Your function should return a boolean `True` if the distance between `x` and `origin` is less than 1 and `False` otherwise.\n",
    "    - Use `distance(x, y)` as defined in 2c.\n",
    "- Use your function to determine whether the point (1,1) lies within the unit circle centered at (0,0)."
   ]
  },
  {
   "cell_type": "code",
   "execution_count": 10,
   "metadata": {},
   "outputs": [
    {
     "name": "stdout",
     "output_type": "stream",
     "text": [
      "True\n"
     ]
    }
   ],
   "source": [
    "def in_circle(x, origin = [0,0]):\n",
    "   # Define your function here!\n",
    "    if distance(x,origin) < 1:\n",
    "        return True\n",
    "    else:\n",
    "        return False\n",
    "print(in_circle(x))"
   ]
  },
  {
   "cell_type": "markdown",
   "metadata": {},
   "source": [
    "#### Exercise 2e\n",
    "\n",
    "- Create a list `inside` of `R=10000` booleans that determines whether or not a point falls within the unit circle centered at `(0,0)`. \n",
    "    - Use the `rand` function from 2b to generate `R` randomly located points.\n",
    "    - Use the function `in_circle` to test whether or not a given pint falls within the unit circle.\n",
    "- Find the proportion of points that fall within the circle by summing all `True` values in the `inside` list; then divide the answer by `R` to obtain a proportion.\n",
    "- Print your answer. This proportion is an estimate of the ratio of the two areas!"
   ]
  },
  {
   "cell_type": "code",
   "execution_count": 11,
   "metadata": {},
   "outputs": [
    {
     "name": "stdout",
     "output_type": "stream",
     "text": [
      "7790\n",
      "0.779\n"
     ]
    }
   ],
   "source": [
    "random.seed(1) \n",
    "\n",
    "# write your code here!\n",
    "R = 10000\n",
    "inside = []\n",
    "i = 0\n",
    "while i < R:\n",
    "    point=(rand(),rand())\n",
    "    inside.append(in_circle(point))\n",
    "    i+=1\n",
    "\n",
    "i = 0\n",
    "count = 0\n",
    "while i < R:\n",
    "    if inside[i] == True:\n",
    "        count += 1\n",
    "    i += 1\n",
    "        \n",
    "print(count)\n",
    "proportion = count / R\n",
    "print(proportion)\n"
   ]
  },
  {
   "cell_type": "markdown",
   "metadata": {},
   "source": [
    "#### Exercise 2f\n",
    "\n",
    "- Find the difference between your estimate from part 2e and `math.pi / 4`. Note: `inside` and `R` are defined as in Exercise 2e."
   ]
  },
  {
   "cell_type": "code",
   "execution_count": 12,
   "metadata": {},
   "outputs": [
    {
     "name": "stdout",
     "output_type": "stream",
     "text": [
      "0.006398163397448253\n"
     ]
    }
   ],
   "source": [
    "# write your code here!\n",
    "print(pi_by_4 - proportion)"
   ]
  },
  {
   "cell_type": "markdown",
   "metadata": {},
   "source": [
    "### Exercise 3\n",
    "\n",
    "A list of numbers representing measurements obtained from a system of interest can often be noisy. One way to deal with noise to smoothen the values by replacing each value with the average of the value and the values of its neighbors.\n",
    "\n",
    "#### Exercise 3a\n",
    "\n",
    "- Write a function `moving_window_average(x, n_neighbors)` that takes a list `x` and the number of neighbors `n_neighbors` on either side of a given member of the list to consider.\n",
    "- For each value in `x`, `moving_window_average(x, n_neighbors)` computes the average of the value and the values of its neighbors.\n",
    "- `moving_window_average` should return a list of averaged values that is the same length as the original list.\n",
    "- If there are not enough neighbors (for cases near the edge), substitute the original value for a neighbor for each missing neighbor.\n",
    "- Use your function to find the moving window sum of `x=[0,10,5,3,1,5]` and `n_neighbors=1`."
   ]
  },
  {
   "cell_type": "code",
   "execution_count": 13,
   "metadata": {},
   "outputs": [
    {
     "name": "stdout",
     "output_type": "stream",
     "text": [
      "[3.3333333333333335, 5.0, 6.0, 3.0, 3.0, 3.6666666666666665]\n",
      "24.000000000000004\n"
     ]
    }
   ],
   "source": [
    " def moving_window_average(x, n_neighbors=1):\n",
    "    n = len(x)\n",
    "    width = n_neighbors*2 + 1\n",
    "    x_extend = [x[0]]*n_neighbors + x + [x[-1]]*n_neighbors\n",
    "    # To complete the function,\n",
    "    # return a list of the mean of values from i to i+width for all values i from 0 to n-1.\n",
    "    ans = []\n",
    "    for k in range(0,n):\n",
    "        bucket = x_avg(n_neighbors,width,n,i = k,x_temp=x_extend) \n",
    "        ans = ans+[bucket]    \n",
    "    \n",
    "    return(ans)\n",
    "\n",
    "\n",
    "\n",
    "def  x_avg(n_neighbors,width,n,i,x_temp):\n",
    "    if i == 0:\n",
    "        vector = list(range(0,2+n_neighbors))\n",
    "        x_sum =sum(x_temp[j] for j in vector)\n",
    "    elif i == n- 1:\n",
    "        vector = list(range(i,i+n_neighbors+2))\n",
    "        x_sum = sum(x_temp[j] for j in vector)\n",
    "    else:\n",
    "        vector = list(range(i,i+n_neighbors+2))\n",
    "        x_sum = sum(x_temp[j] for j in vector)\n",
    "        \n",
    "    avg = x_sum / width\n",
    "    return avg\n",
    "     \n",
    "    \n",
    "    \n",
    "x = [0,10,5,3,1,5]\n",
    "print(moving_window_average(x, 1))\n",
    "y= moving_window_average(x,1)\n",
    "print(sum(y))"
   ]
  },
  {
   "cell_type": "markdown",
   "metadata": {},
   "source": [
    "#### Exercise 3b\n",
    "- Compute and store `R=1000` random values from 0-1 as `x`.\n",
    "- Compute the moving window average for `x` for values of `n_neighbors` ranging from 1 to 9 inclusive.\n",
    "- Store `x` as well as each of these averages as consecutive lists in a list called `Y`"
   ]
  },
  {
   "cell_type": "code",
   "execution_count": 14,
   "metadata": {},
   "outputs": [
    {
     "name": "stdout",
     "output_type": "stream",
     "text": [
      "0.45325045824763405\n"
     ]
    }
   ],
   "source": [
    "import random\n",
    "random.seed(1) # This line fixes the value called by your function,\n",
    "               # and is used for answer-checking.\n",
    "    \n",
    "# write your code here!\n",
    "\n",
    "def moving_window_average(x, n_neighbors=1):\n",
    "    n = len(x)\n",
    "    width = n_neighbors*2 + 1\n",
    "    x_extend = [x[0]]*n_neighbors + x + [x[-1]]*n_neighbors\n",
    "    # To complete the function,\n",
    "    # return a list of the mean of values from i to i+width for all values i from 0 to n-1.\n",
    "    ans = []\n",
    "    for k in range(0,n):\n",
    "        bucket = x_avg(n_neighbors,width,n,i = k,x_temp=x_extend) \n",
    "        ans = ans+[bucket]    \n",
    "    \n",
    "    return(ans)\n",
    "\n",
    "\n",
    "\n",
    "def  x_avg(n_neighbors,width,n,i,x_temp):\n",
    "    if i == 0:\n",
    "        vector = list(range(i,1 +2*n_neighbors))\n",
    "        x_sum =sum(x_temp[j] for j in vector)\n",
    "    elif i == n- 1:\n",
    "        vector = list(range(i,i+2*n_neighbors+1))\n",
    "        x_sum = sum(x_temp[j] for j in vector)\n",
    "    else:\n",
    "        vector = list(range(i,i+2*n_neighbors+1))\n",
    "        x_sum = sum(x_temp[j] for j in vector)\n",
    "        \n",
    "    avg = x_sum / width\n",
    "    return avg\n",
    "     \n",
    "    \n",
    "R = 1000\n",
    "x = []\n",
    "i = 1\n",
    "while i <=R:\n",
    "    i+=1\n",
    "    x.append(random.random())\n",
    "\n",
    "    \n",
    "\n",
    "Y = [[] for i in range(10)]\n",
    "Y[0] = x\n",
    "m = 1\n",
    "while m < 10:\n",
    "    z=moving_window_average(x,m)\n",
    "    Y[m] =  z\n",
    "    m+=1\n",
    "    \n",
    "\n",
    "print(Y[5][9])\n",
    "\n"
   ]
  },
  {
   "cell_type": "markdown",
   "metadata": {},
   "source": [
    "#### Exercise 3c\n",
    "\n",
    "- For each list in `Y`, calculate and store the range (the maximum minus the minimum) in a new list ranges.\n",
    "- Print your answer. As the window width increases, does the range of each list increase or decrease? Why do you think that is?"
   ]
  },
  {
   "cell_type": "code",
   "execution_count": 18,
   "metadata": {},
   "outputs": [
    {
     "name": "stdout",
     "output_type": "stream",
     "text": [
      "[[0.9981599522851606, 0.0008447179488895173], [0.9510005995001753, 0.03816158094808993], [0.9121462444497416, 0.11050047254034456], [0.8964262339570169, 0.18268711153577014], [0.8593436734733525, 0.2363289786358497], [0.7728525560925408, 0.2686241474150845], [0.7683263756645504, 0.26122500035438756], [0.7631568204800142, 0.3041477707891983], [0.7460167136483833, 0.29942121825755064], [0.7442838713465039, 0.3009141769374988]]\n"
     ]
    }
   ],
   "source": [
    "# write your code here!\n",
    "import random\n",
    "random.seed(1)\n",
    "def moving_window_average(x, n_neighbors=1):\n",
    "    n = len(x)\n",
    "    width = n_neighbors*2 + 1\n",
    "    x_extend = [x[0]]*n_neighbors + x + [x[-1]]*n_neighbors\n",
    "    # To complete the function,\n",
    "    # return a list of the mean of values from i to i+width for all values i from 0 to n-1.\n",
    "    ans = []\n",
    "    for k in range(0,n):\n",
    "        bucket = x_avg(n_neighbors,width,n,i = k,x_temp=x_extend) \n",
    "        ans = ans+[bucket]    \n",
    "    # print(ans)\n",
    "    return(ans)\n",
    "\n",
    "\n",
    "\n",
    "def  x_avg(n_neighbors,width,n,i,x_temp):\n",
    "    if i == 0:\n",
    "        vector = list(range(i,1 +2*n_neighbors))\n",
    "        x_sum =sum(x_temp[j] for j in vector)\n",
    "    elif i == n- 1:\n",
    "        vector = list(range(i,i+2*n_neighbors+1))\n",
    "        x_sum = sum(x_temp[j] for j in vector)\n",
    "    else:\n",
    "        vector = list(range(i,i+2*n_neighbors+1))\n",
    "        x_sum = sum(x_temp[j] for j in vector)\n",
    "        \n",
    "    avg = x_sum / width\n",
    "    return avg\n",
    "     \n",
    "    \n",
    "R =1000\n",
    "x = []\n",
    "i = 1\n",
    "while i <=R:\n",
    "    i+=1\n",
    "    x.append(random.random())\n",
    "    \n",
    "Y = [[] for i in range(10)]\n",
    "Y[0] = x\n",
    "m = 1\n",
    "while m < 10:\n",
    "    z=moving_window_average(x,m)\n",
    "    Y[m] = z\n",
    "    m+=1\n",
    "        \n",
    "# write your code here!\n",
    "ranges = [[] for i in range(10)]\n",
    "o = 0\n",
    "while o < 10:\n",
    "    ranges[o].append(max(Y[o]))\n",
    "    ranges[o].append(min(Y[o]))\n",
    "    o +=1\n",
    "print(ranges)\n"
   ]
  },
  {
   "cell_type": "code",
   "execution_count": null,
   "metadata": {},
   "outputs": [],
   "source": []
  }
 ],
 "metadata": {
  "kernelspec": {
   "display_name": "Python 3 (ipykernel)",
   "language": "python",
   "name": "python3"
  },
  "language_info": {
   "codemirror_mode": {
    "name": "ipython",
    "version": 3
   },
   "file_extension": ".py",
   "mimetype": "text/x-python",
   "name": "python",
   "nbconvert_exporter": "python",
   "pygments_lexer": "ipython3",
   "version": "3.9.12"
  }
 },
 "nbformat": 4,
 "nbformat_minor": 2
}
